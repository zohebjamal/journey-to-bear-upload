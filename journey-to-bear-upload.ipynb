{
 "cells": [
  {
   "cell_type": "code",
   "execution_count": 1,
   "metadata": {},
   "outputs": [
    {
     "data": {
      "text/plain": [
       "\"\\nConversion steps:\\n* Get a list of all notes by filtering on files with extension json\\n* Read each file\\n* Create a note with title, text, tag `#journey`\\n* Paste remaining keys as metadata at the end of the script\\n* If tags are present, create them as bear tags\\n* Call bear's x-callback-url create-note to create the note\\n\""
      ]
     },
     "execution_count": 1,
     "metadata": {},
     "output_type": "execute_result"
    }
   ],
   "source": [
    "\"\"\"\n",
    "Conversion steps:\n",
    "* Get a list of all notes by filtering on files with extension json\n",
    "* Read each file\n",
    "* Create a note with title, text, tag `#journey`\n",
    "* Paste remaining keys as metadata at the end of the script\n",
    "* If tags are present, create them as bear tags\n",
    "* Call bear's x-callback-url create-note to create the note\n",
    "\"\"\""
   ]
  },
  {
   "cell_type": "code",
   "execution_count": 11,
   "metadata": {},
   "outputs": [],
   "source": [
    "import os\n",
    "import sys\n",
    "import shutil\n",
    "\n",
    "import json\n",
    "import logging\n",
    "from pathlib import Path\n",
    "import re\n",
    "\n",
    "import html2markdown\n",
    "import requests\n",
    "\n",
    "logging.basicConfig(level=logging.ERROR)\n",
    "journey_notes_dir = Path.cwd() / 'raw' / 'journey-backup'\n",
    "Path.mkdir(Path.cwd() / 'final', exist_ok=True)\n",
    "bear_notes_dir = Path.cwd() / 'final'\n",
    "\n",
    "# note_fp = list(journey_notes_dir.glob('*.json'))\n",
    "note_fp = [journey_notes_dir / '1524195338279-3fb6d72698a2ab50.json']\n",
    "for fp in note_fp:\n",
    "    with open(fp, 'r') as fh:\n",
    "        input_note = json.load(fh)\n",
    "        \n",
    "    # journey does not store an explicit title. So take the first line as the title  \n",
    "        title_pattern = r'(.*?)[\\n\\-\\.](.*)'\n",
    "        try:\n",
    "            match = re.search(title_pattern, input_note['text'], re.DOTALL)\n",
    "            if match:\n",
    "                # in case the body is None, it will be defaulted to ''\n",
    "                title, body = match.groups('')\n",
    "            else:\n",
    "                title = input_note['text']\n",
    "                body = ''\n",
    "                logging.debug('note {} contains a one-liner text'.format(fp.name))\n",
    "#                 raise Exception('No match found for {}'.format(fp.name))\n",
    "            \n",
    "            logging.debug('filename: {}\\n Original title: {} \\n Original body: {}'.format(fp.name, title, body))\n",
    "            \n",
    "            title_in_md = html2markdown.convert(title).strip()\n",
    "            body_in_md = html2markdown.convert(body).strip()\n",
    "            logging.debug('filename: {}\\n Converted title: {} \\n Converted body: {}'.format(fp.name, title_in_md, body_in_md))\n",
    "        except Exception as e:\n",
    "            logging.exception(e)\n",
    "        \n",
    "        # add media\n",
    "        media_list = []\n",
    "        if input_note['photos']:\n",
    "            media_list = input_note['photos']\n",
    "        \n",
    "        output_note_fp = bear_notes_dir / '{}.md'.format(input_note['id'])\n",
    "        with open(output_note_fp, 'w') as fh:\n",
    "            fh.write('\\n'.join([title_in_md, body_in_md]))\n",
    "            fh.write('\\n\\n')\n",
    "            if media_list:\n",
    "                fh.write('\\n'.join(['![]({})'.format(media) for media in media_list]))\n",
    "                for media in media_list:\n",
    "                    shutil.copy(journey_notes_dir / media, bear_notes_dir / media)\n",
    "            \n",
    "            \n",
    "    "
   ]
  },
  {
   "cell_type": "code",
   "execution_count": 3,
   "metadata": {},
   "outputs": [
    {
     "data": {
      "text/plain": [
       "dict"
      ]
     },
     "execution_count": 3,
     "metadata": {},
     "output_type": "execute_result"
    }
   ],
   "source": [
    "type(input_note)"
   ]
  },
  {
   "cell_type": "code",
   "execution_count": 4,
   "metadata": {},
   "outputs": [
    {
     "name": "stdout",
     "output_type": "stream",
     "text": [
      "<class 'pathlib.PosixPath'>\n"
     ]
    }
   ],
   "source": [
    "?Path.co"
   ]
  },
  {
   "cell_type": "code",
   "execution_count": null,
   "metadata": {},
   "outputs": [],
   "source": []
  }
 ],
 "metadata": {
  "kernelspec": {
   "display_name": "Python 3",
   "language": "python",
   "name": "python3"
  },
  "language_info": {
   "codemirror_mode": {
    "name": "ipython",
    "version": 3
   },
   "file_extension": ".py",
   "mimetype": "text/x-python",
   "name": "python",
   "nbconvert_exporter": "python",
   "pygments_lexer": "ipython3",
   "version": "3.7.6"
  }
 },
 "nbformat": 4,
 "nbformat_minor": 4
}
